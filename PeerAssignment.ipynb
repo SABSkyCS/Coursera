{
  "metadata": {
    "language_info": {
      "codemirror_mode": {
        "name": "python",
        "version": 3
      },
      "file_extension": ".py",
      "mimetype": "text/x-python",
      "name": "python",
      "nbconvert_exporter": "python",
      "pygments_lexer": "ipython3",
      "version": "3.8"
    },
    "kernelspec": {
      "name": "python",
      "display_name": "Python (Pyodide)",
      "language": "python"
    }
  },
  "nbformat_minor": 4,
  "nbformat": 4,
  "cells": [
    {
      "cell_type": "markdown",
      "source": "# My Jupyter Notebook on IBM Watson Studio",
      "metadata": {}
    },
    {
      "cell_type": "markdown",
      "source": "### SAYA BULUT\nCurrent occupation = Data Consultant",
      "metadata": {}
    },
    {
      "cell_type": "markdown",
      "source": " <em> I am interested in data science because ...</em>\n",
      "metadata": {}
    },
    {
      "cell_type": "markdown",
      "source": "### My code, when executed, will display an output.",
      "metadata": {}
    },
    {
      "cell_type": "code",
      "source": "1+1",
      "metadata": {
        "trusted": true
      },
      "execution_count": 2,
      "outputs": [
        {
          "execution_count": 2,
          "output_type": "execute_result",
          "data": {
            "text/plain": "2"
          },
          "metadata": {}
        }
      ]
    },
    {
      "cell_type": "markdown",
      "source": "* Item\n* Item\n- Item\n- Item\n\n---\n\n> Quoted text.\n> > Quoted quote.\n> * Quoted\n> * List\n\n---\n\n```css\n#button {\n border: none;\n}\n```\n",
      "metadata": {}
    },
    {
      "cell_type": "code",
      "source": "",
      "metadata": {},
      "execution_count": null,
      "outputs": []
    }
  ]
}